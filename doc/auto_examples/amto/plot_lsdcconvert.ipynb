{
  "cells": [
    {
      "cell_type": "code",
      "execution_count": null,
      "metadata": {
        "collapsed": false
      },
      "outputs": [],
      "source": [
        "%matplotlib inline"
      ]
    },
    {
      "cell_type": "markdown",
      "metadata": {},
      "source": [
        "\n# List and Dictionary Convertions\nConvert between list and dictionary\n"
      ]
    },
    {
      "cell_type": "code",
      "execution_count": null,
      "metadata": {
        "collapsed": false
      },
      "outputs": [],
      "source": [
        "# Author: Fan Wang (fanwangecon.github.io)\nimport pyfan.amto.lsdc.lsdcconvert as pyfan_amto_lsdcconvert\nimport pprint\nimport matplotlib.pyplot as plt\nimport textwrap"
      ]
    },
    {
      "cell_type": "markdown",
      "metadata": {},
      "source": [
        "## Convert list to dictionary\n\n"
      ]
    },
    {
      "cell_type": "code",
      "execution_count": null,
      "metadata": {
        "collapsed": false
      },
      "outputs": [],
      "source": [
        "# list\nls_combo_type = [\"e\", \"20201025x_esr_list_tKap_mlt_ce1a2\", [\"esti_param.kappa_ce9901\", \"esti_param.kappa_ce0209\"],\n                 1, \"C1E31M3S3=1\"]\n\n# convert calling function without parameters:\ndc_ls_combo_type_a = pyfan_amto_lsdcconvert.ff_ls2dc(ls_combo_type, 'i', 'o', verbose=True)\nprint(f'{dc_ls_combo_type_a=}')\n\n# convert calling function with later parameter names:\ndc_ls_combo_type_b = pyfan_amto_lsdcconvert.ff_ls2dc(ls_combo_type, st_counter_str='i', st_all_str='o')\nprint(f'{dc_ls_combo_type_b=}')\n\n# convert calling function with all named parameters:\ndc_ls_combo_type_c = pyfan_amto_lsdcconvert.ff_ls2dc(ls_list=ls_combo_type, st_counter_str='i', st_all_str='o')\nprint(f'{dc_ls_combo_type_c=}')\n\n# provide name for list\ndc_ls_combo_type_d= pyfan_amto_lsdcconvert.ff_ls2dc(ls_list=ls_combo_type, st_counter_str='CTR', st_all_str='OF', st_ls_name='ls_other_name')\nprint(f'{dc_ls_combo_type_d=}')\n\n# check three calling methods all work\nprint(f'{dc_ls_combo_type_a==dc_ls_combo_type_b=}')\nprint(f'{dc_ls_combo_type_a==dc_ls_combo_type_c=}')\nprint(f'{dc_ls_combo_type_a==dc_ls_combo_type_d=}')\n\n# Start Plot\nfig, ax = plt.subplots()\n\n# Text Plot\nax.text(0.5, 0.5,\n        f'ls_combo_type is:\\n{textwrap.fill(str(ls_combo_type), width=80)}'\n        f'\\n\\n'\n        f'dc_ls_combo_type_c is:\\n{textwrap.fill(str(dc_ls_combo_type_c), width=80)}',\n        horizontalalignment='center',\n        verticalalignment='center',\n        fontsize=10, color='black',\n        transform=ax.transAxes)\n\n# Labeling\nax.set_axis_off()\nplt.show()"
      ]
    }
  ],
  "metadata": {
    "kernelspec": {
      "display_name": "Python 3",
      "language": "python",
      "name": "python3"
    },
    "language_info": {
      "codemirror_mode": {
        "name": "ipython",
        "version": 3
      },
      "file_extension": ".py",
      "mimetype": "text/x-python",
      "name": "python",
      "nbconvert_exporter": "python",
      "pygments_lexer": "ipython3",
      "version": "3.8.5"
    }
  },
  "nbformat": 4,
  "nbformat_minor": 0
}